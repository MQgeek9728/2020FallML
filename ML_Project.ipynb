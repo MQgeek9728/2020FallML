{
  "nbformat": 4,
  "nbformat_minor": 0,
  "metadata": {
    "colab": {
      "name": "ML_Project.ipynb",
      "provenance": [],
      "collapsed_sections": [],
      "authorship_tag": "ABX9TyMw96yfkL5BlfQ+xZhAz4mp",
      "include_colab_link": true
    },
    "kernelspec": {
      "name": "python3",
      "display_name": "Python 3"
    }
  },
  "cells": [
    {
      "cell_type": "markdown",
      "metadata": {
        "id": "view-in-github",
        "colab_type": "text"
      },
      "source": [
        "<a href=\"https://colab.research.google.com/github/MQgeek9728/2020FallML/blob/master/ML_Project.ipynb\" target=\"_parent\"><img src=\"https://colab.research.google.com/assets/colab-badge.svg\" alt=\"Open In Colab\"/></a>"
      ]
    },
    {
      "cell_type": "markdown",
      "metadata": {
        "id": "LsjukiqVU-_s"
      },
      "source": [
        "We first download some basic packages."
      ]
    },
    {
      "cell_type": "code",
      "metadata": {
        "id": "0xv7qsS0U_a_"
      },
      "source": [
        "import pandas as pd\n",
        "import numpy as np\n",
        "import matplotlib\n",
        "import matplotlib.pyplot as plt\n",
        "%matplotlib inline"
      ],
      "execution_count": 24,
      "outputs": []
    },
    {
      "cell_type": "markdown",
      "metadata": {
        "id": "sySmUGRCKvYI"
      },
      "source": [
        "## Load and Visualize the Data\n",
        "First load data from 'https://raw.githubusercontent.com/yeb2Binfang/20MLproj/main/high_diamond_ranked_10min.csv'"
      ]
    },
    {
      "cell_type": "code",
      "metadata": {
        "id": "TdKskXYdJgJb"
      },
      "source": [
        "df = pd.read_csv('https://raw.githubusercontent.com/yeb2Binfang/20MLproj/main/high_diamond_ranked_10min.csv')"
      ],
      "execution_count": 25,
      "outputs": []
    },
    {
      "cell_type": "code",
      "metadata": {
        "colab": {
          "base_uri": "https://localhost:8080/",
          "height": 255
        },
        "id": "kabXW1yqKqyS",
        "outputId": "cc1d0478-2945-409e-e7b1-f00f97a304da"
      },
      "source": [
        "df.head(6)"
      ],
      "execution_count": 26,
      "outputs": [
        {
          "output_type": "execute_result",
          "data": {
            "text/html": [
              "<div>\n",
              "<style scoped>\n",
              "    .dataframe tbody tr th:only-of-type {\n",
              "        vertical-align: middle;\n",
              "    }\n",
              "\n",
              "    .dataframe tbody tr th {\n",
              "        vertical-align: top;\n",
              "    }\n",
              "\n",
              "    .dataframe thead th {\n",
              "        text-align: right;\n",
              "    }\n",
              "</style>\n",
              "<table border=\"1\" class=\"dataframe\">\n",
              "  <thead>\n",
              "    <tr style=\"text-align: right;\">\n",
              "      <th></th>\n",
              "      <th>gameId</th>\n",
              "      <th>blueWins</th>\n",
              "      <th>blueWardsPlaced</th>\n",
              "      <th>blueWardsDestroyed</th>\n",
              "      <th>blueFirstBlood</th>\n",
              "      <th>blueKills</th>\n",
              "      <th>blueDeaths</th>\n",
              "      <th>blueAssists</th>\n",
              "      <th>blueEliteMonsters</th>\n",
              "      <th>blueDragons</th>\n",
              "      <th>blueHeralds</th>\n",
              "      <th>blueTowersDestroyed</th>\n",
              "      <th>blueTotalGold</th>\n",
              "      <th>blueAvgLevel</th>\n",
              "      <th>blueTotalExperience</th>\n",
              "      <th>blueTotalMinionsKilled</th>\n",
              "      <th>blueTotalJungleMinionsKilled</th>\n",
              "      <th>blueGoldDiff</th>\n",
              "      <th>blueExperienceDiff</th>\n",
              "      <th>blueCSPerMin</th>\n",
              "      <th>blueGoldPerMin</th>\n",
              "      <th>redWardsPlaced</th>\n",
              "      <th>redWardsDestroyed</th>\n",
              "      <th>redFirstBlood</th>\n",
              "      <th>redKills</th>\n",
              "      <th>redDeaths</th>\n",
              "      <th>redAssists</th>\n",
              "      <th>redEliteMonsters</th>\n",
              "      <th>redDragons</th>\n",
              "      <th>redHeralds</th>\n",
              "      <th>redTowersDestroyed</th>\n",
              "      <th>redTotalGold</th>\n",
              "      <th>redAvgLevel</th>\n",
              "      <th>redTotalExperience</th>\n",
              "      <th>redTotalMinionsKilled</th>\n",
              "      <th>redTotalJungleMinionsKilled</th>\n",
              "      <th>redGoldDiff</th>\n",
              "      <th>redExperienceDiff</th>\n",
              "      <th>redCSPerMin</th>\n",
              "      <th>redGoldPerMin</th>\n",
              "    </tr>\n",
              "  </thead>\n",
              "  <tbody>\n",
              "    <tr>\n",
              "      <th>0</th>\n",
              "      <td>4519157822</td>\n",
              "      <td>0</td>\n",
              "      <td>28</td>\n",
              "      <td>2</td>\n",
              "      <td>1</td>\n",
              "      <td>9</td>\n",
              "      <td>6</td>\n",
              "      <td>11</td>\n",
              "      <td>0</td>\n",
              "      <td>0</td>\n",
              "      <td>0</td>\n",
              "      <td>0</td>\n",
              "      <td>17210</td>\n",
              "      <td>6.6</td>\n",
              "      <td>17039</td>\n",
              "      <td>195</td>\n",
              "      <td>36</td>\n",
              "      <td>643</td>\n",
              "      <td>-8</td>\n",
              "      <td>19.5</td>\n",
              "      <td>1721.0</td>\n",
              "      <td>15</td>\n",
              "      <td>6</td>\n",
              "      <td>0</td>\n",
              "      <td>6</td>\n",
              "      <td>9</td>\n",
              "      <td>8</td>\n",
              "      <td>0</td>\n",
              "      <td>0</td>\n",
              "      <td>0</td>\n",
              "      <td>0</td>\n",
              "      <td>16567</td>\n",
              "      <td>6.8</td>\n",
              "      <td>17047</td>\n",
              "      <td>197</td>\n",
              "      <td>55</td>\n",
              "      <td>-643</td>\n",
              "      <td>8</td>\n",
              "      <td>19.7</td>\n",
              "      <td>1656.7</td>\n",
              "    </tr>\n",
              "    <tr>\n",
              "      <th>1</th>\n",
              "      <td>4523371949</td>\n",
              "      <td>0</td>\n",
              "      <td>12</td>\n",
              "      <td>1</td>\n",
              "      <td>0</td>\n",
              "      <td>5</td>\n",
              "      <td>5</td>\n",
              "      <td>5</td>\n",
              "      <td>0</td>\n",
              "      <td>0</td>\n",
              "      <td>0</td>\n",
              "      <td>0</td>\n",
              "      <td>14712</td>\n",
              "      <td>6.6</td>\n",
              "      <td>16265</td>\n",
              "      <td>174</td>\n",
              "      <td>43</td>\n",
              "      <td>-2908</td>\n",
              "      <td>-1173</td>\n",
              "      <td>17.4</td>\n",
              "      <td>1471.2</td>\n",
              "      <td>12</td>\n",
              "      <td>1</td>\n",
              "      <td>1</td>\n",
              "      <td>5</td>\n",
              "      <td>5</td>\n",
              "      <td>2</td>\n",
              "      <td>2</td>\n",
              "      <td>1</td>\n",
              "      <td>1</td>\n",
              "      <td>1</td>\n",
              "      <td>17620</td>\n",
              "      <td>6.8</td>\n",
              "      <td>17438</td>\n",
              "      <td>240</td>\n",
              "      <td>52</td>\n",
              "      <td>2908</td>\n",
              "      <td>1173</td>\n",
              "      <td>24.0</td>\n",
              "      <td>1762.0</td>\n",
              "    </tr>\n",
              "    <tr>\n",
              "      <th>2</th>\n",
              "      <td>4521474530</td>\n",
              "      <td>0</td>\n",
              "      <td>15</td>\n",
              "      <td>0</td>\n",
              "      <td>0</td>\n",
              "      <td>7</td>\n",
              "      <td>11</td>\n",
              "      <td>4</td>\n",
              "      <td>1</td>\n",
              "      <td>1</td>\n",
              "      <td>0</td>\n",
              "      <td>0</td>\n",
              "      <td>16113</td>\n",
              "      <td>6.4</td>\n",
              "      <td>16221</td>\n",
              "      <td>186</td>\n",
              "      <td>46</td>\n",
              "      <td>-1172</td>\n",
              "      <td>-1033</td>\n",
              "      <td>18.6</td>\n",
              "      <td>1611.3</td>\n",
              "      <td>15</td>\n",
              "      <td>3</td>\n",
              "      <td>1</td>\n",
              "      <td>11</td>\n",
              "      <td>7</td>\n",
              "      <td>14</td>\n",
              "      <td>0</td>\n",
              "      <td>0</td>\n",
              "      <td>0</td>\n",
              "      <td>0</td>\n",
              "      <td>17285</td>\n",
              "      <td>6.8</td>\n",
              "      <td>17254</td>\n",
              "      <td>203</td>\n",
              "      <td>28</td>\n",
              "      <td>1172</td>\n",
              "      <td>1033</td>\n",
              "      <td>20.3</td>\n",
              "      <td>1728.5</td>\n",
              "    </tr>\n",
              "    <tr>\n",
              "      <th>3</th>\n",
              "      <td>4524384067</td>\n",
              "      <td>0</td>\n",
              "      <td>43</td>\n",
              "      <td>1</td>\n",
              "      <td>0</td>\n",
              "      <td>4</td>\n",
              "      <td>5</td>\n",
              "      <td>5</td>\n",
              "      <td>1</td>\n",
              "      <td>0</td>\n",
              "      <td>1</td>\n",
              "      <td>0</td>\n",
              "      <td>15157</td>\n",
              "      <td>7.0</td>\n",
              "      <td>17954</td>\n",
              "      <td>201</td>\n",
              "      <td>55</td>\n",
              "      <td>-1321</td>\n",
              "      <td>-7</td>\n",
              "      <td>20.1</td>\n",
              "      <td>1515.7</td>\n",
              "      <td>15</td>\n",
              "      <td>2</td>\n",
              "      <td>1</td>\n",
              "      <td>5</td>\n",
              "      <td>4</td>\n",
              "      <td>10</td>\n",
              "      <td>0</td>\n",
              "      <td>0</td>\n",
              "      <td>0</td>\n",
              "      <td>0</td>\n",
              "      <td>16478</td>\n",
              "      <td>7.0</td>\n",
              "      <td>17961</td>\n",
              "      <td>235</td>\n",
              "      <td>47</td>\n",
              "      <td>1321</td>\n",
              "      <td>7</td>\n",
              "      <td>23.5</td>\n",
              "      <td>1647.8</td>\n",
              "    </tr>\n",
              "    <tr>\n",
              "      <th>4</th>\n",
              "      <td>4436033771</td>\n",
              "      <td>0</td>\n",
              "      <td>75</td>\n",
              "      <td>4</td>\n",
              "      <td>0</td>\n",
              "      <td>6</td>\n",
              "      <td>6</td>\n",
              "      <td>6</td>\n",
              "      <td>0</td>\n",
              "      <td>0</td>\n",
              "      <td>0</td>\n",
              "      <td>0</td>\n",
              "      <td>16400</td>\n",
              "      <td>7.0</td>\n",
              "      <td>18543</td>\n",
              "      <td>210</td>\n",
              "      <td>57</td>\n",
              "      <td>-1004</td>\n",
              "      <td>230</td>\n",
              "      <td>21.0</td>\n",
              "      <td>1640.0</td>\n",
              "      <td>17</td>\n",
              "      <td>2</td>\n",
              "      <td>1</td>\n",
              "      <td>6</td>\n",
              "      <td>6</td>\n",
              "      <td>7</td>\n",
              "      <td>1</td>\n",
              "      <td>1</td>\n",
              "      <td>0</td>\n",
              "      <td>0</td>\n",
              "      <td>17404</td>\n",
              "      <td>7.0</td>\n",
              "      <td>18313</td>\n",
              "      <td>225</td>\n",
              "      <td>67</td>\n",
              "      <td>1004</td>\n",
              "      <td>-230</td>\n",
              "      <td>22.5</td>\n",
              "      <td>1740.4</td>\n",
              "    </tr>\n",
              "    <tr>\n",
              "      <th>5</th>\n",
              "      <td>4475365709</td>\n",
              "      <td>1</td>\n",
              "      <td>18</td>\n",
              "      <td>0</td>\n",
              "      <td>0</td>\n",
              "      <td>5</td>\n",
              "      <td>3</td>\n",
              "      <td>6</td>\n",
              "      <td>1</td>\n",
              "      <td>1</td>\n",
              "      <td>0</td>\n",
              "      <td>0</td>\n",
              "      <td>15899</td>\n",
              "      <td>7.0</td>\n",
              "      <td>18161</td>\n",
              "      <td>225</td>\n",
              "      <td>42</td>\n",
              "      <td>698</td>\n",
              "      <td>101</td>\n",
              "      <td>22.5</td>\n",
              "      <td>1589.9</td>\n",
              "      <td>36</td>\n",
              "      <td>5</td>\n",
              "      <td>1</td>\n",
              "      <td>3</td>\n",
              "      <td>5</td>\n",
              "      <td>2</td>\n",
              "      <td>0</td>\n",
              "      <td>0</td>\n",
              "      <td>0</td>\n",
              "      <td>0</td>\n",
              "      <td>15201</td>\n",
              "      <td>7.0</td>\n",
              "      <td>18060</td>\n",
              "      <td>221</td>\n",
              "      <td>59</td>\n",
              "      <td>-698</td>\n",
              "      <td>-101</td>\n",
              "      <td>22.1</td>\n",
              "      <td>1520.1</td>\n",
              "    </tr>\n",
              "  </tbody>\n",
              "</table>\n",
              "</div>"
            ],
            "text/plain": [
              "       gameId  blueWins  ...  redCSPerMin  redGoldPerMin\n",
              "0  4519157822         0  ...         19.7         1656.7\n",
              "1  4523371949         0  ...         24.0         1762.0\n",
              "2  4521474530         0  ...         20.3         1728.5\n",
              "3  4524384067         0  ...         23.5         1647.8\n",
              "4  4436033771         0  ...         22.5         1740.4\n",
              "5  4475365709         1  ...         22.1         1520.1\n",
              "\n",
              "[6 rows x 40 columns]"
            ]
          },
          "metadata": {
            "tags": []
          },
          "execution_count": 26
        }
      ]
    },
    {
      "cell_type": "code",
      "metadata": {
        "colab": {
          "base_uri": "https://localhost:8080/"
        },
        "id": "SyWr4bghLOE-",
        "outputId": "d8523184-c535-439e-b06f-59de581d9464"
      },
      "source": [
        "df.shape"
      ],
      "execution_count": 27,
      "outputs": [
        {
          "output_type": "execute_result",
          "data": {
            "text/plain": [
              "(9879, 40)"
            ]
          },
          "metadata": {
            "tags": []
          },
          "execution_count": 27
        }
      ]
    },
    {
      "cell_type": "markdown",
      "metadata": {
        "id": "qxS_GugvLWRq"
      },
      "source": [
        "Save every column except for `gameId` and `blueWins` in a matrix as input samples X. Save `blueWins` column in a vector as output y."
      ]
    },
    {
      "cell_type": "code",
      "metadata": {
        "colab": {
          "base_uri": "https://localhost:8080/"
        },
        "id": "V_NRrBU6LTuU",
        "outputId": "0e8a4be7-638e-4f9b-970c-5f69bfb67703"
      },
      "source": [
        "#TODO\n",
        "# Samples\n",
        "xnames = df.columns[2:]\n",
        "X = np.array(df[xnames])\n",
        "# Target\n",
        "y = np.array(df[\"blueWins\"])\n",
        "\n",
        "# Use .shape and print how many features and how many data entries are there\n",
        "# save as nsamp, nfeatures\n",
        "nsamp, nfea = X.shape\n",
        "nout = y.shape\n",
        "print('Number of samples = %d,  number of features = %d' % (nsamp,nfea))\n",
        "print('Number of output = %d' % nout)\n"
      ],
      "execution_count": 28,
      "outputs": [
        {
          "output_type": "stream",
          "text": [
            "Number of samples = 9879,  number of features = 38\n",
            "Number of output = 9879\n"
          ],
          "name": "stdout"
        }
      ]
    },
    {
      "cell_type": "markdown",
      "metadata": {
        "id": "ZhW_qiz3NTMR"
      },
      "source": [
        "Then split the data into training and test.  Use the `train_test_split` function with `test_size=0.25`. Save as Xtr, Xts, ytr, yts.\n"
      ]
    },
    {
      "cell_type": "code",
      "metadata": {
        "colab": {
          "base_uri": "https://localhost:8080/"
        },
        "id": "N3_RWVsuNTfp",
        "outputId": "ee92f880-4e20-4b89-8784-fe6b7dedcf07"
      },
      "source": [
        "# Split the data into training and testing.\n",
        "from sklearn.model_selection import train_test_split\n",
        "\n",
        "Xtr, Xts, ytr, yts = train_test_split(X,y,test_size=0.25) \n",
        "print(Xtr.shape)\n",
        "print(ytr.shape)\n",
        "print(Xts.shape)\n",
        "print(yts.shape)"
      ],
      "execution_count": 29,
      "outputs": [
        {
          "output_type": "stream",
          "text": [
            "(7409, 38)\n",
            "(7409,)\n",
            "(2470, 38)\n",
            "(2470,)\n"
          ],
          "name": "stdout"
        }
      ]
    },
    {
      "cell_type": "markdown",
      "metadata": {
        "id": "iH_CHFgWRyXu"
      },
      "source": [
        "## Perform PCA for Visualization\n",
        "\n",
        "Before performing PCA, we need to scale the data matrix to remove the mean and normalize the variance of the different components.  For this purpose, create a `StandardScaling` object `scaling`.  Then `fit` the scaling with the entire data `X`.  Transform the data and let `Xs` be the scaled data."
      ]
    },
    {
      "cell_type": "code",
      "metadata": {
        "id": "frOiHU0BR4Fw"
      },
      "source": [
        "from sklearn.preprocessing import StandardScaler\n",
        "\n",
        "# TODO\n",
        "scaling = StandardScaler()\n",
        "# Xs = scaling.fit(X)\n",
        "scaling.fit(X)\n",
        "Xs = scaling.transform(X)"
      ],
      "execution_count": 30,
      "outputs": []
    },
    {
      "cell_type": "markdown",
      "metadata": {
        "id": "vLXfLkcaSX3o"
      },
      "source": [
        "Next, fit a PCA on the scaled data matrix Xs. Here we use the sklearn PCA method. Select svd_solver='randomized' and whiten=True. Use the the pca.transform method to find, Z, the coefficients of Xs in the PCA basis."
      ]
    },
    {
      "cell_type": "code",
      "metadata": {
        "colab": {
          "base_uri": "https://localhost:8080/"
        },
        "id": "m8nVN1WfSg5k",
        "outputId": "ba4d12d9-d848-453b-a7fb-1a91ba715457"
      },
      "source": [
        "from sklearn.decomposition import PCA\n",
        "\n",
        "# TODO\n",
        "ncomp = 2\n",
        "\n",
        "# Construct the PCA object\n",
        "# pca = PCA(...)\n",
        "pca = PCA(n_components=ncomp, \n",
        "          svd_solver='randomized', whiten=True)\n",
        "\n",
        "# Fit the PCA components on the entire dataset\n",
        "pca.fit(Xs)\n",
        "\n",
        "# Find the coefficients of Xs in the PCA basis.\n",
        "Z =  pca.transform(Xs)\n",
        "Vtr = pca.components_  \n",
        "Z.shape"
      ],
      "execution_count": 31,
      "outputs": [
        {
          "output_type": "execute_result",
          "data": {
            "text/plain": [
              "(9879, 2)"
            ]
          },
          "metadata": {
            "tags": []
          },
          "execution_count": 31
        }
      ]
    },
    {
      "cell_type": "markdown",
      "metadata": {
        "id": "S9_Erbn8TG65"
      },
      "source": [
        "In the transformed basis, each data sample is represented by a two dimensional vector, `Z[i,0], Z[i,1]`. Plot a scatter plot of the transformed data."
      ]
    },
    {
      "cell_type": "code",
      "metadata": {
        "colab": {
          "base_uri": "https://localhost:8080/",
          "height": 281
        },
        "id": "pQVGFXblTGZe",
        "outputId": "bc21dbbb-2825-447a-b48a-51a6608f3e37"
      },
      "source": [
        "# TODO\n",
        "# Note that for binary classification there are 2 classes. \n",
        "I0 = np.where(y==0)\n",
        "I1 = np.where(y==1)\n",
        "plt.scatter(Z[I0,0],Z[I0,1])\n",
        "plt.scatter(Z[I1,0],Z[I1,1])\n",
        "plt.legend(['class_0', 'clsaa_1'])\n",
        "plt.title('Projected data with 2 PCs')\n",
        "plt.grid()"
      ],
      "execution_count": 32,
      "outputs": [
        {
          "output_type": "display_data",
          "data": {
            "image/png": "[encoded data removed]",
            "text/plain": [
              "<Figure size 432x288 with 1 Axes>"
            ]
          },
          "metadata": {
            "tags": [],
            "needs_background": "light"
          }
        }
      ]
    },
    {
      "cell_type": "markdown",
      "metadata": {
        "id": "6UCe5LBnP4UW"
      },
      "source": [
        "## Using PCA with Classificaiton\n",
        "We will now use data scaling and PCA as a pre-processing step for logistic classification.  The number of PCs to use can be found with cross-validation.  We will try different number of PCs components to use and measures the test accuracy for each value. Then we determine the optimal PCs to use with the highest test accuracy."
      ]
    },
    {
      "cell_type": "code",
      "metadata": {
        "colab": {
          "base_uri": "https://localhost:8080/"
        },
        "id": "_RrYVeUBP0g2",
        "outputId": "54bff164-2179-4835-b27f-7693dbcd5d65"
      },
      "source": [
        "from sklearn.model_selection import KFold\n",
        "from sklearn.preprocessing import StandardScaler\n",
        "from sklearn.linear_model import LogisticRegression\n",
        "nfold = 5\n",
        "\n",
        "# Create a K-fold object\n",
        "kf = KFold(n_splits=nfold, shuffle=True)\n",
        "kf.get_n_splits(X)\n",
        "\n",
        "# Number of PCs to try\n",
        "ncomp_test = np.arange(2,12)\n",
        "num_nc = len(ncomp_test)\n",
        "\n",
        "# Accuracy:  acc[icomp,ifold]  is test accuracy when using `ncomp = ncomp_test[icomp]` in fold `ifold`.\n",
        "acc = np.zeros((num_nc,nfold))\n",
        "\n",
        "# Loop over number of components to test\n",
        "for icomp, ncomp in enumerate(ncomp_test):\n",
        "    \n",
        "    # Look over the folds\n",
        "    for ifold, I in enumerate(kf.split(X)):\n",
        "        Itr, Its = I\n",
        "\n",
        "        # TODO:  Split data into training \n",
        "        Xtr = X[Itr]\n",
        "        ytr = y[Itr]\n",
        "        Xts = X[Its]\n",
        "        yts = y[Its]\n",
        "\n",
        "        # TODO:  Create a scaling object and fit the scaling on the training data\n",
        "        scaling = StandardScaler()\n",
        "        scaling.fit(Xtr)\n",
        "        Xtrs = scaling.transform(Xtr)\n",
        "        Xtss = scaling.transform(Xts)\n",
        "\n",
        "        # TODO:  Fit the PCA on the scaled training data\n",
        "        pca = PCA(n_components=ncomp, svd_solver='randomized', whiten=True)\n",
        "        pca.fit(Xtrs)\n",
        "\n",
        "        Ztr =  pca.transform(Xtrs)\n",
        "\n",
        "        # TODO:  Train a classifier on the transformed training data\n",
        "        # Use a logistic regression classifier\n",
        "        logreg = LogisticRegression(multi_class='auto', solver='lbfgs')\n",
        "        logreg.fit(Ztr, ytr)\n",
        "\n",
        "        # TODO:  Transform the test data through data scaler and PCA    \n",
        "        Zts = pca.transform(Xtss)\n",
        "\n",
        "        # TODO:  Predict the labels the test data\n",
        "        yhat = logreg.predict(Zts)\n",
        "        \n",
        "        # TODO:  Measure the accuracy \n",
        "        acc[icomp, ifold] = np.mean(yhat==yts)\n",
        "        print('num_nc=%d nfold=%d acc=%12.4e' % (icomp+1, ifold, acc[icomp,ifold]) )\n",
        "\n"
      ],
      "execution_count": 33,
      "outputs": [
        {
          "output_type": "stream",
          "text": [
            "num_nc=1 nfold=0 acc=  7.2520e-01\n",
            "num_nc=1 nfold=1 acc=  7.3178e-01\n",
            "num_nc=1 nfold=2 acc=  7.2267e-01\n",
            "num_nc=1 nfold=3 acc=  7.4241e-01\n",
            "num_nc=1 nfold=4 acc=  7.2911e-01\n",
            "num_nc=2 nfold=0 acc=  7.1711e-01\n",
            "num_nc=2 nfold=1 acc=  7.1002e-01\n",
            "num_nc=2 nfold=2 acc=  7.3178e-01\n",
            "num_nc=2 nfold=3 acc=  7.3836e-01\n",
            "num_nc=2 nfold=4 acc=  7.4025e-01\n",
            "num_nc=3 nfold=0 acc=  7.3937e-01\n",
            "num_nc=3 nfold=1 acc=  7.2166e-01\n",
            "num_nc=3 nfold=2 acc=  7.2824e-01\n",
            "num_nc=3 nfold=3 acc=  7.1356e-01\n",
            "num_nc=3 nfold=4 acc=  7.3722e-01\n",
            "num_nc=4 nfold=0 acc=  7.4494e-01\n",
            "num_nc=4 nfold=1 acc=  7.3178e-01\n",
            "num_nc=4 nfold=2 acc=  7.1154e-01\n",
            "num_nc=4 nfold=3 acc=  7.2976e-01\n",
            "num_nc=4 nfold=4 acc=  7.2405e-01\n",
            "num_nc=5 nfold=0 acc=  7.1761e-01\n",
            "num_nc=5 nfold=1 acc=  7.2773e-01\n",
            "num_nc=5 nfold=2 acc=  7.2014e-01\n",
            "num_nc=5 nfold=3 acc=  7.4798e-01\n",
            "num_nc=5 nfold=4 acc=  7.3924e-01\n",
            "num_nc=6 nfold=0 acc=  7.3178e-01\n",
            "num_nc=6 nfold=1 acc=  7.3887e-01\n",
            "num_nc=6 nfold=2 acc=  7.1913e-01\n",
            "num_nc=6 nfold=3 acc=  7.3229e-01\n",
            "num_nc=6 nfold=4 acc=  7.3620e-01\n",
            "num_nc=7 nfold=0 acc=  7.2672e-01\n",
            "num_nc=7 nfold=1 acc=  7.2571e-01\n",
            "num_nc=7 nfold=2 acc=  7.4089e-01\n",
            "num_nc=7 nfold=3 acc=  7.2824e-01\n",
            "num_nc=7 nfold=4 acc=  7.2658e-01\n",
            "num_nc=8 nfold=0 acc=  7.3583e-01\n",
            "num_nc=8 nfold=1 acc=  7.2065e-01\n",
            "num_nc=8 nfold=2 acc=  7.2773e-01\n",
            "num_nc=8 nfold=3 acc=  7.2723e-01\n",
            "num_nc=8 nfold=4 acc=  7.4025e-01\n",
            "num_nc=9 nfold=0 acc=  7.2723e-01\n",
            "num_nc=9 nfold=1 acc=  7.1711e-01\n",
            "num_nc=9 nfold=2 acc=  7.2166e-01\n",
            "num_nc=9 nfold=3 acc=  7.3684e-01\n",
            "num_nc=9 nfold=4 acc=  7.4228e-01\n",
            "num_nc=10 nfold=0 acc=  7.2824e-01\n",
            "num_nc=10 nfold=1 acc=  7.3026e-01\n",
            "num_nc=10 nfold=2 acc=  7.2672e-01\n",
            "num_nc=10 nfold=3 acc=  7.3128e-01\n",
            "num_nc=10 nfold=4 acc=  7.3063e-01\n"
          ],
          "name": "stdout"
        }
      ]
    },
    {
      "cell_type": "markdown",
      "metadata": {
        "id": "3EQ5aGCVULwx"
      },
      "source": [
        "Use the plt.errorbar function to plot the mean accuracy with error bars corresponding to the standard error of the accuracy as a function of the number of components. Find the optimal number of PCs to use according to the normal rule and one SE rule, respectively."
      ]
    },
    {
      "cell_type": "code",
      "metadata": {
        "colab": {
          "base_uri": "https://localhost:8080/",
          "height": 350
        },
        "id": "ZWKZ9rtyUPHo",
        "outputId": "77c86ff8-69bd-4c7f-ec5b-074f53ef46f5"
      },
      "source": [
        "# TODO:\n",
        "acc_mean = np.mean(acc, axis = 1)\n",
        "acc_se = np.std(acc,axis=1)/np.sqrt(nfold-1)\n",
        "plt.errorbar(ncomp_test, acc_mean, yerr=acc_se, fmt='-')\n",
        "plt.xlabel('Number of PCs', fontsize = 12)\n",
        "plt.ylabel('Test Accuracy', fontsize = 12)\n",
        "plt.grid()\n",
        "\n",
        "# TODO:  Optimal order with the normal rule\n",
        "Iopt = np.argmax(acc_mean)\n",
        "print(\"The optimal order with the normal rule is {0:d}\".format(ncomp_test[Iopt]))\n",
        "print(\"The best accuracy with the normal rule is {0:f}\".format(acc_mean[Iopt]))\n",
        "\n",
        "# TODO:  Optimal order with one SE rule\n",
        "acc_tgt = acc_mean[Iopt] - acc_se[Iopt]\n",
        "\n",
        "# Find the lowest PC order below the target\n",
        "I = np.where(acc_mean <= acc_tgt)[0]\n",
        "Iopt_se = I[len(I)-1]\n",
        "print(\"The optimal order with one SE rule is %d\" % ncomp_test[Iopt_se])\n",
        "print(\"The best accuracy with the one SE rule is {0:f}\" .format(acc_mean[Iopt_se]))"
      ],
      "execution_count": 34,
      "outputs": [
        {
          "output_type": "stream",
          "text": [
            "The optimal order with the normal rule is 7\n",
            "The best accuracy with the normal rule is 0.731653\n",
            "The optimal order with one SE rule is 4\n",
            "The best accuracy with the one SE rule is 0.728010\n"
          ],
          "name": "stdout"
        },
        {
          "output_type": "display_data",
          "data": {
            "image/png": "[encoded data removed]",
            "text/plain": [
              "<Figure size 432x288 with 1 Axes>"
            ]
          },
          "metadata": {
            "tags": [],
            "needs_background": "light"
          }
        }
      ]
    },
    {
      "cell_type": "markdown",
      "metadata": {
        "id": "2KyVqop-VSHq"
      },
      "source": [
        "## SVM.svc model..."
      ]
    },
    {
      "cell_type": "code",
      "metadata": {
        "id": "y-JH9Ni6Vqxo"
      },
      "source": [
        ""
      ],
      "execution_count": null,
      "outputs": []
    }
  ]
}