{
  "nbformat": 4,
  "nbformat_minor": 0,
  "metadata": {
    "kernelspec": {
      "display_name": "Python 3",
      "language": "python",
      "name": "python3"
    },
    "language_info": {
      "codemirror_mode": {
        "name": "ipython",
        "version": 3
      },
      "file_extension": ".py",
      "mimetype": "text/x-python",
      "name": "python",
      "nbconvert_exporter": "python",
      "pygments_lexer": "ipython3",
      "version": "3.6.7"
    },
    "colab": {
      "name": "ML_lab5.ipynb",
      "provenance": [],
      "collapsed_sections": [],
      "include_colab_link": true
    }
  },
  "cells": [
    {
      "cell_type": "markdown",
      "metadata": {
        "id": "view-in-github",
        "colab_type": "text"
      },
      "source": [
        "<a href=\"https://colab.research.google.com/github/MQgeek9728/2020FallML/blob/master/ML_lab5.ipynb\" target=\"_parent\"><img src=\"https://colab.research.google.com/assets/colab-badge.svg\" alt=\"Open In Colab\"/></a>"
      ]
    },
    {
      "cell_type": "markdown",
      "metadata": {
        "id": "c8cppb1BWjkX",
        "colab_type": "text"
      },
      "source": [
        "# Lab:  Source Localization for EEG\n",
        "\n",
        "EEG or [Electroencephalography](https://en.wikipedia.org/wiki/Electroencephalography) is a powerful tool for neuroscientists in understanding brain activity.  In EEG, a patient wears a headset with electrodes that measures voltages at a number of points on the scalp.  These voltages arise from ionic currents within the brain.  A common *inverse problem* is to estimate the which parts of the brain caused the measured response.  Source localization is useful in understanding which parts of the brain are involved in certain tasks.  A key challenge in this inverse problem is that the number of unknowns (possible locations in the brain) is much larger than the number of measurements.  In this lab, we will use LASSO regression on a real EEG dataset to overcome this problem and determine the brain region that is active under an auditory stimulus.\n",
        "\n",
        "In addition to the concepts in the [prostate LASSO demo](./demo_prostate.ipynb) you will learn to:\n",
        "* Represent responses of multi-channel time-series data, such as EEG, using linear models\n",
        "* Perform LASSO and Ridge regression\n",
        "* Select the regularization level via cross-validation\n",
        "* Visually compare the sparsity between the solutions\n",
        "\n",
        "We first download standard packages."
      ]
    },
    {
      "cell_type": "code",
      "metadata": {
        "id": "CPUrK8DNWjkY",
        "colab_type": "code",
        "colab": {}
      },
      "source": [
        "import numpy as np\n",
        "import matplotlib.pyplot as plt\n",
        "import pickle\n",
        "\n",
        "from sklearn.linear_model import Lasso, Ridge, ElasticNet\n",
        "from sklearn.metrics import r2_score\n",
        "from sklearn.model_selection import train_test_split"
      ],
      "execution_count": 37,
      "outputs": []
    },
    {
      "cell_type": "markdown",
      "metadata": {
        "id": "RXw1B8c-Wjkc",
        "colab_type": "text"
      },
      "source": [
        "## Load the Data\n",
        "\n",
        "The data in this lab is taken from one of the sample datasets in the [MNE website](https://martinos.org/mne/stable/index.html). The sample data is a recording from one subject who experienced some auditory stimulus on the left ear.    \n",
        "\n",
        "The raw data is very large (`1.5G`) and also requires that you install the `mne` python package. To make this lab easier, I have extracted and processed a small section of the data. The following command will download a `pickle` file `eeg_dat.p` to your local machine.  If you do want to create the data yourself, the program to create the data is in this directory in the github repository."
      ]
    },
    {
      "cell_type": "code",
      "metadata": {
        "id": "GssiGOJ_Wjkc",
        "colab_type": "code",
        "colab": {
          "base_uri": "https://localhost:8080/",
          "height": 34
        },
        "outputId": "2cebe9cc-23ab-475f-d513-2dd5a9bf248b"
      },
      "source": [
        "fn_src ='https://drive.google.com/uc?export=download&id=1RzQpKONOcXSMxH2ZzOI4iVMiTgD6ttSl'\n",
        "fn_dst ='eeg_dat.p'\n",
        "\n",
        "import os\n",
        "from six.moves import urllib\n",
        "\n",
        "if os.path.isfile(fn_dst):\n",
        "    print('File %s is already downloaded' % fn_dst)\n",
        "else:        \n",
        "    print('Fetching file %s [53MB].  This may take a minute..' % fn_dst)\n",
        "    urllib.request.urlretrieve(fn_src, fn_dst)\n",
        "    print('File %s downloaded' % fn_dst)"
      ],
      "execution_count": 38,
      "outputs": [
        {
          "output_type": "stream",
          "text": [
            "File eeg_dat.p is already downloaded\n"
          ],
          "name": "stdout"
        }
      ]
    },
    {
      "cell_type": "markdown",
      "metadata": {
        "id": "wampXjJ4Wjkg",
        "colab_type": "text"
      },
      "source": [
        "Now run the following command which will get the data from the `pickle` file."
      ]
    },
    {
      "cell_type": "code",
      "metadata": {
        "id": "MS6nPveeWjkg",
        "colab_type": "code",
        "colab": {}
      },
      "source": [
        "import pickle\n",
        "fn = 'eeg_dat.p'\n",
        "with open(fn, 'rb') as fp:\n",
        "    [X,Y] = pickle.load(fp)"
      ],
      "execution_count": 39,
      "outputs": []
    },
    {
      "cell_type": "markdown",
      "metadata": {
        "id": "adwDwVKdWjkk",
        "colab_type": "text"
      },
      "source": [
        "To understand the data, there are three key variables:\n",
        "* `nt`    = number of time steps that we measure data\n",
        "* `nchan` = number of channels (i.e. electrodes) measured in each time step\n",
        "* `ncur`  = number of currents in the brain that we want to estimate.  \n",
        "\n",
        "Each current comes from one brain region (called a *voxel*) in either the `x`, `y` or `z` direction.  So,\n",
        "\n",
        "    nvoxels = ncur / 3\n",
        "    \n",
        "The components of the `X` and `Y` matrices are:\n",
        "*  `Y[i,k]` = electric field measurement on channel `i` at time `k`\n",
        "*  `X[i,j]` = sensitivity of channel `i` to current `j`.\n",
        "\n",
        "Using `X.shape` and `Y.shape` compute and print `nt`, `nchan`, `ncur` and `nvoxels`."
      ]
    },
    {
      "cell_type": "code",
      "metadata": {
        "id": "CpnIkVnWWjkk",
        "colab_type": "code",
        "colab": {
          "base_uri": "https://localhost:8080/",
          "height": 51
        },
        "outputId": "e4531eb3-8041-47bb-9fa4-72832feb4930"
      },
      "source": [
        "# TODO\n",
        "# print(X.shape)   /*(305, 22494)\n",
        "# print(Y.shape)   /*(305, 85)\n",
        "nt = Y.shape[1]\n",
        "nchan = X.shape[0]\n",
        "ncur = X.shape[1]\n",
        "nvoxels = ncur/3\n",
        "print('nt = %d,    nchan = %d' % (nt,nchan))\n",
        "print('ncur = %d,  nvoxels = %d' % (ncur,nvoxels))"
      ],
      "execution_count": 40,
      "outputs": [
        {
          "output_type": "stream",
          "text": [
            "nt = 85,    nchan = 305\n",
            "ncur = 22494,  nvoxels = 7498\n"
          ],
          "name": "stdout"
        }
      ]
    },
    {
      "cell_type": "markdown",
      "metadata": {
        "id": "x-U3qAncWjkm",
        "colab_type": "text"
      },
      "source": [
        "## Ridge Regression\n",
        "\n",
        "Our goal is to estimate the currents in the brain from the measurements `Y`.  One simple linear model is:\n",
        "\n",
        "    Y[i,k]  = \\sum_j X[i,j]*W[j,k]+ b[k]\n",
        "\n",
        "where `W[j,k]` is the value of current `j` at time `k` and `b[k]` is a bias.  We can solve for the current matrix `W` via linear regression.  \n",
        "\n",
        "Howeever, there is a problem:\n",
        "*  There are `nt x ncur` unknowns in `W`\n",
        "*  There are only `nt x nchan` measurements in `Y`.\n",
        "\n",
        "In this problem, we have:\n",
        "\n",
        "    number of measurements  << number of unknowns\n",
        "    \n",
        "We need to use regularization in these circumstances.  We first try Ridge regression.\n",
        "\n",
        "First split the data into training and test.  Use the `train_test_split` function with `test_size=0.33`."
      ]
    },
    {
      "cell_type": "code",
      "metadata": {
        "id": "5dsLwpBNWjkn",
        "colab_type": "code",
        "colab": {
          "base_uri": "https://localhost:8080/",
          "height": 51
        },
        "outputId": "62d2f70e-fae2-4584-cb7d-8a579ee70c91"
      },
      "source": [
        "# TODO\n",
        "Xtr,Xts,Ytr,Yts = train_test_split(X,Y,test_size=0.33) \n",
        "print(Xtr.shape)\n",
        "print(Ytr.shape)"
      ],
      "execution_count": 41,
      "outputs": [
        {
          "output_type": "stream",
          "text": [
            "(204, 22494)\n",
            "(204, 85)\n"
          ],
          "name": "stdout"
        }
      ]
    },
    {
      "cell_type": "markdown",
      "metadata": {
        "id": "NnWnkgHAWjkp",
        "colab_type": "text"
      },
      "source": [
        "Use the `Ridge` regression object in `sklearn` to fit the model on the training data.  Use a regularization, `alpha=1`."
      ]
    },
    {
      "cell_type": "code",
      "metadata": {
        "id": "FyIDAdjUWjkp",
        "colab_type": "code",
        "colab": {}
      },
      "source": [
        "# TODO\n",
        "regr = Ridge(alpha=1)\n",
        "regr.fit(Xtr, Ytr)\n",
        "y_tr_pred = regr.predict(Xtr)\n",
        "y_ts_pred = regr.predict(Xts)"
      ],
      "execution_count": 42,
      "outputs": []
    },
    {
      "cell_type": "markdown",
      "metadata": {
        "id": "c2Ka5aFdWjks",
        "colab_type": "text"
      },
      "source": [
        "Preict the values `Y` on both the training and test data.  Use the `r2_score` method to measure the `R^2` value on both the training and test.  You will see that `R^2` value is large for the training data, it is very low for the test data.  This suggest that even with regularization, the model is over-fitting the data."
      ]
    },
    {
      "cell_type": "code",
      "metadata": {
        "id": "e3slj8UFWjks",
        "colab_type": "code",
        "colab": {
          "base_uri": "https://localhost:8080/",
          "height": 51
        },
        "outputId": "c5532d3c-b859-426f-a247-288f7d569746"
      },
      "source": [
        "# TODO\n",
        "rsq_tr = r2_score(Ytr, y_tr_pred)\n",
        "rsq_ts = r2_score(Yts, y_ts_pred)\n",
        "print('Training R^2     = %f' % rsq_tr)\n",
        "print('Test R^2     = %f' % rsq_ts)"
      ],
      "execution_count": 43,
      "outputs": [
        {
          "output_type": "stream",
          "text": [
            "Training R^2     = 0.615827\n",
            "Test R^2     = 0.117429\n"
          ],
          "name": "stdout"
        }
      ]
    },
    {
      "cell_type": "markdown",
      "metadata": {
        "id": "0pG6_kI5Wjkv",
        "colab_type": "text"
      },
      "source": [
        "Next, try to see if we can get a better `R^2` score using different values of `alpha`.  Use cross-validation to measure the test `R^2` for 20 `alpha` values logarithmically spaced from `10^{-2}` to `10^{2}` (use `np.logspace()`).  You can use regular cross-validation.  You do not need to do `K`-fold."
      ]
    },
    {
      "cell_type": "code",
      "metadata": {
        "id": "RxxNipVqWjkv",
        "colab_type": "code",
        "colab": {}
      },
      "source": [
        "# TODO\n",
        "# Alpha values to test\n",
        "alphas = np.logspace(-2,2,20)\n",
        "nalpha = len(alphas)\n",
        "rsq_ridge = np.zeros((nalpha,1))\n",
        "\n",
        "for i, al in enumerate(alphas):\n",
        "  # Fit on the training data\n",
        "  reg = Ridge(alpha=al)\n",
        "  reg.fit(Xtr, Ytr)\n",
        "\n",
        "  # Score on the test data\n",
        "  yhat = reg.predict(Xts)\n",
        "  rsq_ridge[i] = r2_score(Yts, yhat)\n",
        "  # print(rsq_ridge[i])\n"
      ],
      "execution_count": 44,
      "outputs": []
    },
    {
      "cell_type": "markdown",
      "metadata": {
        "id": "zHDADT5uWjkx",
        "colab_type": "text"
      },
      "source": [
        "Plot the test `R^2` vs. `alpha`.  And print the maximum test `R^2`.  You should see that the maximum test `R^2` is still not very high."
      ]
    },
    {
      "cell_type": "code",
      "metadata": {
        "id": "NaSHRFOTWjky",
        "colab_type": "code",
        "colab": {
          "base_uri": "https://localhost:8080/",
          "height": 316
        },
        "outputId": "0543b535-3a50-4c2d-a126-4c5f76667942"
      },
      "source": [
        "# TODO\n",
        "plt.plot(np.log10(alphas), rsq_ridge)\n",
        "plt.scatter(np.log10(alphas), rsq_ridge)\n",
        "plt.xlabel('log10(alpha)')\n",
        "plt.ylabel('Test R^2')\n",
        "plt.grid()\n",
        "plt.show()\n",
        "im = np.argmax(rsq_ridge)\n",
        "alpha_opt = alphas[im]\n",
        "\n",
        "print('Alpha optimal (Rigde) = %8.4e' % alpha_opt)\n",
        "print('Maximum Test R^2 = %f' % rsq_ridge[im])"
      ],
      "execution_count": 56,
      "outputs": [
        {
          "output_type": "display_data",
          "data": {
            "image/png": "[encoded data removed]",
            "text/plain": [
              "<Figure size 432x288 with 1 Axes>"
            ]
          },
          "metadata": {
            "tags": [],
            "needs_background": "light"
          }
        },
        {
          "output_type": "stream",
          "text": [
            "Alpha optimal (Rigde) = 4.8329e-01\n",
            "Maximum Test R^2 = 0.135570\n"
          ],
          "name": "stdout"
        }
      ]
    },
    {
      "cell_type": "markdown",
      "metadata": {
        "id": "Wonoqt0aWjk0",
        "colab_type": "text"
      },
      "source": [
        "Now, let's take a look at the solution. \n",
        "\n",
        "* Find the optimal regularization `alpha` from the cross-validation\n",
        "* Re-fit the model at the optimal `alpha`\n",
        "* Get the current matrix `W` from the coefficients in the linear model.  These are stored in `regr.coef_`.  You may need a transpose\n",
        "* For each current `j` compute `Wrms[j] =  sqrt( sum_k W[j,k]**2 )` which is root mean squared current.\n",
        "\n",
        "You will see that the vector `Wrms` is not sparse.  This means that the solution that is found with Ridge regression finds currents in all locations."
      ]
    },
    {
      "cell_type": "code",
      "metadata": {
        "id": "3MwBO7toWjk0",
        "colab_type": "code",
        "colab": {
          "base_uri": "https://localhost:8080/",
          "height": 238
        },
        "outputId": "c8c3422e-b06c-4ba2-b954-367e87fc54a9"
      },
      "source": [
        "# TODO\n",
        "regr = Ridge(alpha=alpha_opt)\n",
        "regr.fit(Xtr, Ytr)\n",
        "\n",
        "W = regr.coef_.T\n",
        "# print(W.shape)   \\* (22494, 85)\n",
        "\n",
        "Wrms = np.sqrt(np.sum(W**2,axis=1))\n",
        "print(W)\n"
      ],
      "execution_count": 65,
      "outputs": [
        {
          "output_type": "stream",
          "text": [
            "[[ 0.02542186  0.02585468  0.02498716 ...  0.00099935 -0.00434877\n",
            "  -0.00975983]\n",
            " [-0.02665955 -0.02661074 -0.02524704 ... -0.0125332  -0.00924221\n",
            "  -0.00588575]\n",
            " [-0.03416408 -0.03379715 -0.0318865  ... -0.01908454 -0.01519318\n",
            "  -0.01120843]\n",
            " ...\n",
            " [-0.00138232 -0.00173939 -0.00193052 ...  0.00406496  0.00449887\n",
            "   0.00480304]\n",
            " [ 0.00220861  0.0023863   0.00242901 ... -0.00394832 -0.00412859\n",
            "  -0.00409592]\n",
            " [-0.00094717 -0.00063706 -0.00049431 ... -0.00401934 -0.00427973\n",
            "  -0.0047007 ]]\n"
          ],
          "name": "stdout"
        }
      ]
    },
    {
      "cell_type": "markdown",
      "metadata": {
        "id": "73dviJj_Wjk3",
        "colab_type": "text"
      },
      "source": [
        "## LASSO Regression\n",
        "\n",
        "We can improve the estimate by imposing sparsity.  Biologically, we know that only a limited number of brain regions should be involved in the reponse to a particular stimuli.  As a result, we would expect that the current matrix `W[j,k]` to be zero for most values `j,k`.  We can impose this constraint using LASSO regularization.\n",
        "\n",
        "Re-fit the training data using the `Lasso` model with `alpha=1e-3`.  Also set `max_iter=100` and `tol=0.01`.  The LASSO solver is much slower, so this make take a minute."
      ]
    },
    {
      "cell_type": "code",
      "metadata": {
        "id": "p4oES5rzWjk3",
        "colab_type": "code",
        "colab": {}
      },
      "source": [
        "# TODO\n",
        "regr = Lasso(alpha=1e-3, max_iter=100, tol=0.01)\n",
        "regr.fit(Xtr, Ytr)\n",
        "yhat_tr = regr.predict(Xtr)\n",
        "yhat_ts = regr.predict(Xts)\n"
      ],
      "execution_count": 58,
      "outputs": []
    },
    {
      "cell_type": "markdown",
      "metadata": {
        "id": "Pvf2JCZ2Wjk5",
        "colab_type": "text"
      },
      "source": [
        "Now, test the model on the test data and measure the `R^2` value.  You should get a much better fit than with the Ridge regression solution.  "
      ]
    },
    {
      "cell_type": "code",
      "metadata": {
        "id": "FHIGLhpXWjk6",
        "colab_type": "code",
        "colab": {
          "base_uri": "https://localhost:8080/",
          "height": 51
        },
        "outputId": "f2c1b0ce-02e5-43e1-b55a-d048e1a25a6f"
      },
      "source": [
        "# TODO\n",
        "rsq_tr = r2_score(Ytr, yhat_tr)\n",
        "rsq_ts = r2_score(Yts, yhat_ts)\n",
        "print('Training R^2     = %f' % rsq_tr)\n",
        "print('Test R^2     = %f' % rsq_ts)"
      ],
      "execution_count": 59,
      "outputs": [
        {
          "output_type": "stream",
          "text": [
            "Training R^2     = 0.203632\n",
            "Test R^2     = 0.129915\n"
          ],
          "name": "stdout"
        }
      ]
    },
    {
      "cell_type": "markdown",
      "metadata": {
        "id": "3nassasTWjk8",
        "colab_type": "text"
      },
      "source": [
        "We can now search for the optimal `alpha`.  Use cross-validation to find the `alpha` logarithically space between `alpha=10^{-3}` and `alpha=10^{-4}`.  Each fit takes some time, so use only 5 values of `alpha`. Also for each `alpha` store the current matrix.  This way, you will not have to re-fit the model."
      ]
    },
    {
      "cell_type": "code",
      "metadata": {
        "id": "hUEtQkvrWjk8",
        "colab_type": "code",
        "colab": {
          "base_uri": "https://localhost:8080/",
          "height": 102
        },
        "outputId": "8200ebf8-686e-4161-c31e-8772fdd63c76"
      },
      "source": [
        "# TODO\n",
        "# # Create cross-validation object\n",
        "# from sklearn.model_selection import KFold\n",
        "# import numpy as np\n",
        "# nfold = 5\n",
        "# kf = KFold(nfold, shuffle=True)\n",
        "\n",
        "# # Alpha values to test\n",
        "# alphas = np.logspace(-4,-3,5)\n",
        "# nalpha = len(alphas)\n",
        "\n",
        "# # Run the cross-validation\n",
        "# rsq = np.zeros((nalpha, nfold))\n",
        "# for ifold, ind in enumerate(kf.split(X)):\n",
        "        \n",
        "#     # Get the training data in the split\n",
        "#     Itr,Its = ind\n",
        "#     Xtr = X[Itr]\n",
        "#     # Xtr = X[Itr,:]\n",
        "#     ytr = Y[Itr]\n",
        "#     Xts = X[Its]\n",
        "#     # Xts = X[Its,:]\n",
        "#     yts = Y[Its]\n",
        "\n",
        "  #   for i, alpha in enumerate(alphas):\n",
        "\n",
        "  #       # Fit on the training data\n",
        "  #       reg = Lasso(alpha=alpha)\n",
        "  #       reg.fit(Xtr, ytr)\n",
        "\n",
        "  #       # Score on the test data\n",
        "  #       yhat = reg.predict(Xts)\n",
        "  #       rsq[i, ifold] = r2_score(yts, yhat)\n",
        "    \n",
        "  #   print('Fold = %d' % ifold)\n",
        "    \n",
        "# # Compute mean and SE\n",
        "# rsq_lasso_mean = np.mean(rsq, axis=1)\n",
        "# rsq_lasso_se  = np.std(rsq, axis=1) / np.sqrt(nfold-1)\n",
        "\n",
        "# Alpha values to test\n",
        "alphas_lasso = np.logspace(-4,-3,5)\n",
        "nalpha = len(alphas_lasso)\n",
        "rsq_lasso = np.zeros((nalpha,1))\n",
        "\n",
        "for i, al in enumerate(alphas_lasso):\n",
        "  # Fit on the training data\n",
        "  reg = Lasso(alpha=al,max_iter=100, tol=0.01)\n",
        "  reg.fit(Xtr, Ytr)\n",
        "\n",
        "  # Score on the test data\n",
        "  yhat = reg.predict(Xts)\n",
        "  rsq_lasso[i] = r2_score(Yts, yhat)\n",
        "  print('alpha_index = %d' % i)"
      ],
      "execution_count": 61,
      "outputs": [
        {
          "output_type": "stream",
          "text": [
            "alpha_index = 0\n",
            "alpha_index = 1\n",
            "alpha_index = 2\n",
            "alpha_index = 3\n",
            "alpha_index = 4\n"
          ],
          "name": "stdout"
        }
      ]
    },
    {
      "cell_type": "markdown",
      "metadata": {
        "id": "VhSJTeS_Wjk-",
        "colab_type": "text"
      },
      "source": [
        "Plot the `r^2` value vs. `alpha`.  Print the optimal `r^2`.  You should see it is much higher than with the best Ridge Regression case."
      ]
    },
    {
      "cell_type": "code",
      "metadata": {
        "id": "XQwGghXBWjk-",
        "colab_type": "code",
        "colab": {
          "base_uri": "https://localhost:8080/",
          "height": 317
        },
        "outputId": "3f6b6ac8-f4b7-46f8-8fbc-9860afe4b81a"
      },
      "source": [
        "# TODO\n",
        "plt.plot(np.log10(alphas_lasso), rsq_lasso)\n",
        "plt.scatter(np.log10(alphas_lasso), rsq_lasso)\n",
        "plt.xlabel('log10(alpha)')\n",
        "plt.ylabel('Test R^2')\n",
        "plt.grid()\n",
        "plt.show()\n",
        "imax = np.argmax(rsq_lasso)\n",
        "alpha_opt_lasso = alphas_lasso[imax]\n",
        "\n",
        "print('Alpha optimal (Lasso) = %8.4e' % alpha_opt_lasso)\n",
        "print('Maximum Test R^2 = %f' % rsq_lasso[imax])"
      ],
      "execution_count": 62,
      "outputs": [
        {
          "output_type": "display_data",
          "data": {
            "image/png": "[encoded data removed]",
            "text/plain": [
              "<Figure size 432x288 with 1 Axes>"
            ]
          },
          "metadata": {
            "tags": [],
            "needs_background": "light"
          }
        },
        {
          "output_type": "stream",
          "text": [
            "Alpha optimal (Lasso) = 3.1623e-04\n",
            "Maximum Test R^2 = 0.273124\n"
          ],
          "name": "stdout"
        }
      ]
    },
    {
      "cell_type": "markdown",
      "metadata": {
        "id": "GX9G8BnDWjlA",
        "colab_type": "text"
      },
      "source": [
        "Display the current matrix `W` for the optimal `alpha` as you did in the Ridge Regression case.  You will see that is much sparser."
      ]
    },
    {
      "cell_type": "code",
      "metadata": {
        "id": "LILlrx8ZWjlB",
        "colab_type": "code",
        "colab": {
          "base_uri": "https://localhost:8080/",
          "height": 238
        },
        "outputId": "228e33b3-3d3f-4c45-d9fc-3208a4754304"
      },
      "source": [
        "# TODO\n",
        "regr_lasso = Ridge(alpha=alpha_opt_lasso)\n",
        "regr_lasso.fit(Xtr, Ytr)\n",
        "\n",
        "W_lasso = regr_lasso.coef_.T\n",
        "\n",
        "Wrms_lasso = np.sqrt(np.sum(W_lasso**2,axis=1))\n",
        "print(W_lasso)"
      ],
      "execution_count": 64,
      "outputs": [
        {
          "output_type": "stream",
          "text": [
            "[[ 3.51609799e-01  4.15361925e-01  4.50669654e-01 ...  1.25925641e+00\n",
            "   1.11007990e+00  9.19763346e-01]\n",
            " [-1.06983339e-01 -1.30137328e-01 -1.34177376e-01 ...  2.18731060e-01\n",
            "   4.38680989e-01  6.10591932e-01]\n",
            " [-1.99294326e-02 -5.12476841e-02 -5.48233907e-02 ...  2.96469293e-01\n",
            "   5.27104874e-01  6.91455811e-01]\n",
            " ...\n",
            " [-1.33144905e-02 -1.42457273e-02 -1.77470810e-02 ... -6.59166632e-04\n",
            "   1.14317532e-02  2.53301629e-02]\n",
            " [ 4.61862170e-02  3.87345140e-02  2.74713710e-02 ... -9.31162051e-02\n",
            "  -7.36042520e-02 -5.03607724e-02]\n",
            " [-6.28709595e-02 -4.16358838e-02 -1.67703639e-02 ...  4.52199212e-02\n",
            "   3.11640200e-02  1.45543104e-02]]\n"
          ],
          "name": "stdout"
        }
      ]
    },
    {
      "cell_type": "markdown",
      "metadata": {
        "id": "Gtk5Ww4dWjlD",
        "colab_type": "text"
      },
      "source": [
        "## More fun\n",
        "\n",
        "If you want to more on this lab:\n",
        "* Install the [MNE python package](https://martinos.org/mne/stable/index.html).  This is an amazing package with many tools for processing EEG data.\n",
        "* In particular, you can use the above results to visualize where in the brain the currents sources are.\n",
        "* You can also improve the fitting with more regularization.  For example, we know that the currents will be non-zero in groups:  If the current is non-zero for one time, it is likely to non-zero for all time.  You can use the Group LASSO method.\n",
        "* You can combine these results to make predictions about what the patient is seeing or hearing or thinking."
      ]
    },
    {
      "cell_type": "code",
      "metadata": {
        "id": "kqd2Y1tAWjlD",
        "colab_type": "code",
        "colab": {}
      },
      "source": [
        ""
      ],
      "execution_count": null,
      "outputs": []
    }
  ]
}