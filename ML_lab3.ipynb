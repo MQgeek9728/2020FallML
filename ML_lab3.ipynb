{
  "nbformat": 4,
  "nbformat_minor": 0,
  "metadata": {
    "anaconda-cloud": {},
    "kernelspec": {
      "display_name": "Python 3",
      "language": "python",
      "name": "python3"
    },
    "language_info": {
      "codemirror_mode": {
        "name": "ipython",
        "version": 3
      },
      "file_extension": ".py",
      "mimetype": "text/x-python",
      "name": "python",
      "nbconvert_exporter": "python",
      "pygments_lexer": "ipython3",
      "version": "3.6.6"
    },
    "colab": {
      "name": "ML lab3.ipynb",
      "provenance": [],
      "collapsed_sections": [],
      "include_colab_link": true
    }
  },
  "cells": [
    {
      "cell_type": "markdown",
      "metadata": {
        "id": "view-in-github",
        "colab_type": "text"
      },
      "source": [
        "<a href=\"https://colab.research.google.com/github/MQgeek9728/2020FallML/blob/master/ML_lab3.ipynb\" target=\"_parent\"><img src=\"https://colab.research.google.com/assets/colab-badge.svg\" alt=\"Open In Colab\"/></a>"
      ]
    },
    {
      "cell_type": "markdown",
      "metadata": {
        "id": "fWJkGM_RjZ0k",
        "colab_type": "text"
      },
      "source": [
        "# Multiple Linear Regression for Robot Calibration\n",
        "\n",
        "In this lab, we will illustrate the use of multiple linear regression for calibrating robot control.  In addition to reviewing the concepts in the [multiple linear regression demo](./glucose.ipynb), you will see how to use multiple linear regression for time series data -- an important concept in dynamical systems such as robotics.\n",
        "\n",
        "The robot data for the lab is taken generously from the TU Dortmund's [Multiple Link Robot Arms Project](http://www.rst.e-technik.tu-dortmund.de/cms/en/research/robotics/TUDOR_engl/index.html).  As part of the project, they have created an excellent public dataset: [MERIt](http://www.rst.e-technik.tu-dortmund.de/cms/en/research/robotics/TUDOR_engl/index.html#h3MERIt) -- A Multi-Elastic-Link Robot Identification Dataset that can be used for understanding robot dynamics.  The data is from a three link robot:\n",
        "\n",
        "<img src=\"http://www.rst.e-technik.tu-dortmund.de/cms/Medienpool/redaktionelleBilder/Forschung/Schwerpunkte/TUDOR_engl/TUDORBild.png\" height=\"200\" width=\"200\">\n",
        "\n",
        "\n",
        "We will focus on predicting the current draw into one of the joints as a function of the robot motion.  Such models are essential in predicting the overall robot power consumption.  Several other models could also be used."
      ]
    },
    {
      "cell_type": "markdown",
      "metadata": {
        "id": "uERCwHxPjZ0l",
        "colab_type": "text"
      },
      "source": [
        "## Load and Visualize the Data\n",
        "First, import the modules we will need."
      ]
    },
    {
      "cell_type": "code",
      "metadata": {
        "id": "acBWgTVejZ0m",
        "colab_type": "code",
        "colab": {}
      },
      "source": [
        "import pandas as pd\n",
        "import numpy as np\n",
        "import matplotlib\n",
        "import matplotlib.pyplot as plt\n",
        "%matplotlib inline"
      ],
      "execution_count": 3,
      "outputs": []
    },
    {
      "cell_type": "markdown",
      "metadata": {
        "id": "c3cosiFfjZ0p",
        "colab_type": "text"
      },
      "source": [
        "The full MERIt dataset can be obtained from the [MERIt site](http://www.rst.e-technik.tu-dortmund.de/cms/en/research/robotics/TUDOR_engl/index.html#h3MERIt).  But, this dataset is large.  Included in this repository are two of the ten experiments.  Each experiments corresonds to 80 seconds of recorded motion.  We will use the following files:\n",
        "* [exp1.csv](./exp1.csv) for training\n",
        "* [exp2.csv](./exp2.csv) for test\n",
        "\n",
        "Below, I have supplied the column headers in the `names` array.  Use the `pd.read_csv` command to load the data.  Use the `index_col` option to specify that column 0 (the one with time) is the *index* column.  You can review [simple linear regression demo](..\\simp_lin_reg\\auto_mpg.ipynb) for examples of using the `pd.read_csv` command."
      ]
    },
    {
      "cell_type": "code",
      "metadata": {
        "id": "kH83UW9VjZ0p",
        "colab_type": "code",
        "colab": {}
      },
      "source": [
        "names =[\n",
        "    't',                                  # Time (secs)\n",
        "    'q1', 'q2', 'q3',                     # Joint angle   (rads)\n",
        "    'dq1', 'dq2', 'dq3',                  # Joint velocity (rads/sec)\n",
        "    'I1', 'I2', 'I3',                     # Motor current (A)\n",
        "    'eps21', 'eps22', 'eps31', 'eps32',   # Strain gauge measurements ($\\mu$m /m )\n",
        "    'ddq1', 'ddq2', 'ddq3'                # Joint accelerations (rad/sec^2)\n",
        "]\n",
        "# TODO \n",
        "#df = pd.read_csv('https://raw.githubusercontent.com/sdrangan/introml/master/unit03_mult_lin_reg/exp1.csv')\n",
        "df = pd.read_csv('https://raw.githubusercontent.com/sdrangan/introml/master/unit03_mult_lin_reg/exp1.csv',names=names)"
      ],
      "execution_count": 15,
      "outputs": []
    },
    {
      "cell_type": "markdown",
      "metadata": {
        "id": "Wdis1YQbjZ0s",
        "colab_type": "text"
      },
      "source": [
        "Print the first six lines of the pandas dataframe and manually check that they match the first rows of the csv file."
      ]
    },
    {
      "cell_type": "code",
      "metadata": {
        "id": "NcvrVR9ajZ0t",
        "colab_type": "code",
        "colab": {
          "base_uri": "https://localhost:8080/",
          "height": 235
        },
        "outputId": "5718c465-1edd-4d5d-8d8d-f539a7c339d1"
      },
      "source": [
        "# TODO\n",
        "df.head(6)"
      ],
      "execution_count": 23,
      "outputs": [
        {
          "output_type": "execute_result",
          "data": {
            "text/html": [
              "<div>\n",
              "<style scoped>\n",
              "    .dataframe tbody tr th:only-of-type {\n",
              "        vertical-align: middle;\n",
              "    }\n",
              "\n",
              "    .dataframe tbody tr th {\n",
              "        vertical-align: top;\n",
              "    }\n",
              "\n",
              "    .dataframe thead th {\n",
              "        text-align: right;\n",
              "    }\n",
              "</style>\n",
              "<table border=\"1\" class=\"dataframe\">\n",
              "  <thead>\n",
              "    <tr style=\"text-align: right;\">\n",
              "      <th></th>\n",
              "      <th>t</th>\n",
              "      <th>q1</th>\n",
              "      <th>q2</th>\n",
              "      <th>q3</th>\n",
              "      <th>dq1</th>\n",
              "      <th>dq2</th>\n",
              "      <th>dq3</th>\n",
              "      <th>I1</th>\n",
              "      <th>I2</th>\n",
              "      <th>I3</th>\n",
              "      <th>eps21</th>\n",
              "      <th>eps22</th>\n",
              "      <th>eps31</th>\n",
              "      <th>eps32</th>\n",
              "      <th>ddq1</th>\n",
              "      <th>ddq2</th>\n",
              "      <th>ddq3</th>\n",
              "    </tr>\n",
              "  </thead>\n",
              "  <tbody>\n",
              "    <tr>\n",
              "      <th>0</th>\n",
              "      <td>0.00</td>\n",
              "      <td>-0.000007</td>\n",
              "      <td>2.4958</td>\n",
              "      <td>-1.1345</td>\n",
              "      <td>-7.882100e-21</td>\n",
              "      <td>-4.940656e-321</td>\n",
              "      <td>3.913100e-29</td>\n",
              "      <td>-0.081623</td>\n",
              "      <td>-0.40812</td>\n",
              "      <td>-0.30609</td>\n",
              "      <td>-269.25</td>\n",
              "      <td>-113.20</td>\n",
              "      <td>3.5918</td>\n",
              "      <td>1.57860</td>\n",
              "      <td>-9.904900e-19</td>\n",
              "      <td>-6.210306e-319</td>\n",
              "      <td>4.917400e-27</td>\n",
              "    </tr>\n",
              "    <tr>\n",
              "      <th>1</th>\n",
              "      <td>0.01</td>\n",
              "      <td>-0.000007</td>\n",
              "      <td>2.4958</td>\n",
              "      <td>-1.1345</td>\n",
              "      <td>-2.258200e-21</td>\n",
              "      <td>-4.940656e-321</td>\n",
              "      <td>2.626200e-31</td>\n",
              "      <td>-0.037411</td>\n",
              "      <td>-0.37241</td>\n",
              "      <td>-0.26698</td>\n",
              "      <td>-270.91</td>\n",
              "      <td>-116.05</td>\n",
              "      <td>1.4585</td>\n",
              "      <td>-1.73980</td>\n",
              "      <td>4.248100e-19</td>\n",
              "      <td>-1.766878e-319</td>\n",
              "      <td>-1.381100e-27</td>\n",
              "    </tr>\n",
              "    <tr>\n",
              "      <th>2</th>\n",
              "      <td>0.02</td>\n",
              "      <td>-0.000007</td>\n",
              "      <td>2.4958</td>\n",
              "      <td>-1.1345</td>\n",
              "      <td>-6.469800e-22</td>\n",
              "      <td>-4.940656e-321</td>\n",
              "      <td>1.762500e-33</td>\n",
              "      <td>-0.066319</td>\n",
              "      <td>-0.40302</td>\n",
              "      <td>-0.31459</td>\n",
              "      <td>-269.25</td>\n",
              "      <td>-112.97</td>\n",
              "      <td>3.5918</td>\n",
              "      <td>0.86753</td>\n",
              "      <td>3.233800e-19</td>\n",
              "      <td>-4.990557e-320</td>\n",
              "      <td>-4.117300e-28</td>\n",
              "    </tr>\n",
              "    <tr>\n",
              "      <th>3</th>\n",
              "      <td>0.03</td>\n",
              "      <td>-0.000007</td>\n",
              "      <td>2.4958</td>\n",
              "      <td>-1.1345</td>\n",
              "      <td>-1.853600e-22</td>\n",
              "      <td>-4.940656e-321</td>\n",
              "      <td>1.182800e-35</td>\n",
              "      <td>-0.068020</td>\n",
              "      <td>-0.43703</td>\n",
              "      <td>-0.28398</td>\n",
              "      <td>-269.97</td>\n",
              "      <td>-114.39</td>\n",
              "      <td>1.6956</td>\n",
              "      <td>-0.08059</td>\n",
              "      <td>1.500500e-19</td>\n",
              "      <td>-1.394253e-320</td>\n",
              "      <td>-1.173100e-28</td>\n",
              "    </tr>\n",
              "    <tr>\n",
              "      <th>4</th>\n",
              "      <td>0.04</td>\n",
              "      <td>-0.000007</td>\n",
              "      <td>2.4958</td>\n",
              "      <td>-1.1345</td>\n",
              "      <td>-5.310600e-23</td>\n",
              "      <td>-4.940656e-321</td>\n",
              "      <td>-5.270900e-03</td>\n",
              "      <td>-0.052715</td>\n",
              "      <td>-0.40472</td>\n",
              "      <td>-0.30779</td>\n",
              "      <td>-269.97</td>\n",
              "      <td>-114.15</td>\n",
              "      <td>3.1177</td>\n",
              "      <td>0.86753</td>\n",
              "      <td>5.932400e-20</td>\n",
              "      <td>-3.581976e-321</td>\n",
              "      <td>-3.770800e-01</td>\n",
              "    </tr>\n",
              "    <tr>\n",
              "      <th>5</th>\n",
              "      <td>0.05</td>\n",
              "      <td>-0.000007</td>\n",
              "      <td>2.4958</td>\n",
              "      <td>-1.1345</td>\n",
              "      <td>-1.521500e-23</td>\n",
              "      <td>-4.940656e-321</td>\n",
              "      <td>3.252600e-04</td>\n",
              "      <td>-0.088425</td>\n",
              "      <td>-0.42342</td>\n",
              "      <td>-0.29589</td>\n",
              "      <td>-269.25</td>\n",
              "      <td>-114.15</td>\n",
              "      <td>2.4066</td>\n",
              "      <td>-0.08059</td>\n",
              "      <td>2.164600e-20</td>\n",
              "      <td>-1.141292e-321</td>\n",
              "      <td>2.930300e-01</td>\n",
              "    </tr>\n",
              "  </tbody>\n",
              "</table>\n",
              "</div>"
            ],
            "text/plain": [
              "      t        q1      q2  ...          ddq1           ddq2          ddq3\n",
              "0  0.00 -0.000007  2.4958  ... -9.904900e-19 -6.210306e-319  4.917400e-27\n",
              "1  0.01 -0.000007  2.4958  ...  4.248100e-19 -1.766878e-319 -1.381100e-27\n",
              "2  0.02 -0.000007  2.4958  ...  3.233800e-19 -4.990557e-320 -4.117300e-28\n",
              "3  0.03 -0.000007  2.4958  ...  1.500500e-19 -1.394253e-320 -1.173100e-28\n",
              "4  0.04 -0.000007  2.4958  ...  5.932400e-20 -3.581976e-321 -3.770800e-01\n",
              "5  0.05 -0.000007  2.4958  ...  2.164600e-20 -1.141292e-321  2.930300e-01\n",
              "\n",
              "[6 rows x 17 columns]"
            ]
          },
          "metadata": {
            "tags": []
          },
          "execution_count": 23
        }
      ]
    },
    {
      "cell_type": "code",
      "metadata": {
        "id": "1W9OsBlKDmeN",
        "colab_type": "code",
        "colab": {
          "base_uri": "https://localhost:8080/",
          "height": 34
        },
        "outputId": "4ef18ac9-7d2a-4eaa-e52e-8266e71265fa"
      },
      "source": [
        "df.shape"
      ],
      "execution_count": 24,
      "outputs": [
        {
          "output_type": "execute_result",
          "data": {
            "text/plain": [
              "(8000, 17)"
            ]
          },
          "metadata": {
            "tags": []
          },
          "execution_count": 24
        }
      ]
    },
    {
      "cell_type": "markdown",
      "metadata": {
        "id": "97v-PqVcjZ0z",
        "colab_type": "text"
      },
      "source": [
        "From the dataframe `df`, extract the time indices into a vector `t` and extract `I2`, the current into the second joint.  Place the current in a vector `y` and plot `y` vs. `t`.   Label the axes with the units."
      ]
    },
    {
      "cell_type": "code",
      "metadata": {
        "id": "-BF-EdGXjZ00",
        "colab_type": "code",
        "colab": {
          "base_uri": "https://localhost:8080/",
          "height": 295
        },
        "outputId": "cab05b72-f923-4a55-c786-7c30b3b187c9"
      },
      "source": [
        "# TODO\n",
        "y = np.array(df[\"I2\"])\n",
        "t = np.array(df[\"t\"])\n",
        "plt.plot(t,y)\n",
        "plt.xlabel(\"t\")\n",
        "plt.ylabel('Current')\n",
        "plt.title(\"y vs. t\")\n",
        "plt.grid(True)"
      ],
      "execution_count": 20,
      "outputs": [
        {
          "output_type": "display_data",
          "data": {
            "image/png": "[encoded data removed]",
            "text/plain": [
              "<Figure size 432x288 with 1 Axes>"
            ]
          },
          "metadata": {
            "tags": [],
            "needs_background": "light"
          }
        }
      ]
    },
    {
      "cell_type": "markdown",
      "metadata": {
        "id": "f9OS5mF8jZ04",
        "colab_type": "text"
      },
      "source": [
        "Use all the samples from the experiment 1 dataset to create the training data:\n",
        "* `ytrain`:  A vector of all the samples from the `I2` column\n",
        "* `Xtrain`:  A matrix of the data with the columns:  `['q2','dq2','eps21', 'eps22', 'eps31', 'eps32','ddq2']`"
      ]
    },
    {
      "cell_type": "code",
      "metadata": {
        "id": "j7lYUXlIjZ05",
        "colab_type": "code",
        "colab": {}
      },
      "source": [
        "# TODO\n",
        "ytrain = np.array(df[\"I2\"])\n",
        "#ytrain.shape/(8000,)\n",
        "Xtrain = np.array(df[['q2','dq2','eps21', 'eps22', 'eps31', 'eps32','ddq2']])\n",
        "#Xtrain.shape/(8000, 7)"
      ],
      "execution_count": 27,
      "outputs": []
    },
    {
      "cell_type": "markdown",
      "metadata": {
        "id": "ByCmn2bGjZ1A",
        "colab_type": "text"
      },
      "source": [
        "## Fit a Linear Model\n",
        "Use the `sklearn.linear_model` module to create a `LinearRegression` class `regr`."
      ]
    },
    {
      "cell_type": "code",
      "metadata": {
        "id": "klY97FG0jZ1B",
        "colab_type": "code",
        "colab": {
          "base_uri": "https://localhost:8080/",
          "height": 34
        },
        "outputId": "96fe6e2b-29fd-4f5c-b4f4-f257f87d5d6a"
      },
      "source": [
        "from sklearn import linear_model\n",
        "\n",
        "# Create linear regression object\n",
        "# TODO\n",
        "regr = linear_model.LinearRegression()"
      ],
      "execution_count": 28,
      "outputs": [
        {
          "output_type": "execute_result",
          "data": {
            "text/plain": [
              "LinearRegression(copy_X=True, fit_intercept=True, n_jobs=None, normalize=False)"
            ]
          },
          "metadata": {
            "tags": []
          },
          "execution_count": 28
        }
      ]
    },
    {
      "cell_type": "markdown",
      "metadata": {
        "id": "_B-DXNsUjZ1D",
        "colab_type": "text"
      },
      "source": [
        "Train the model on the training data."
      ]
    },
    {
      "cell_type": "code",
      "metadata": {
        "id": "HQIUpsYpjZ1E",
        "colab_type": "code",
        "colab": {
          "base_uri": "https://localhost:8080/",
          "height": 34
        },
        "outputId": "7eb39c1f-86bf-46db-fb75-5bad6ca206dc"
      },
      "source": [
        "# TODO\n",
        "regr.fit(Xtrain,ytrain)"
      ],
      "execution_count": 30,
      "outputs": [
        {
          "output_type": "execute_result",
          "data": {
            "text/plain": [
              "LinearRegression(copy_X=True, fit_intercept=True, n_jobs=None, normalize=False)"
            ]
          },
          "metadata": {
            "tags": []
          },
          "execution_count": 30
        }
      ]
    },
    {
      "cell_type": "markdown",
      "metadata": {
        "id": "P9lHBO23jZ1G",
        "colab_type": "text"
      },
      "source": [
        "Using the trained model, compute, `ytrain_pred`, the predicted current.  Plot `ytrain_pred` vs. time `t`.  On the same plot, plot the actual current `ytrain` vs. time `t`.  Create a legend for the plot."
      ]
    },
    {
      "cell_type": "code",
      "metadata": {
        "id": "AH1fc2VujZ1H",
        "colab_type": "code",
        "colab": {
          "base_uri": "https://localhost:8080/",
          "height": 295
        },
        "outputId": "ee1f90ff-2bf1-4012-a94c-e80ae03a72c6"
      },
      "source": [
        "# TODO\n",
        "ytrain_pred = regr.predict(Xtrain) #the predicted current\n",
        "plt.plot(t,ytrain_pred)\n",
        "plt.plot(t,ytrain)\n",
        "plt.xlabel(\"t\")\n",
        "plt.legend([\"ytrain_pred\",\"ytrain\"],loc='upper left')\n",
        "plt.title(\"ytrain_pred & ytrain vs. t\")\n",
        "plt.grid()"
      ],
      "execution_count": 54,
      "outputs": [
        {
          "output_type": "display_data",
          "data": {
            "image/png": "[encoded data removed]",
            "text/plain": [
              "<Figure size 432x288 with 1 Axes>"
            ]
          },
          "metadata": {
            "tags": [],
            "needs_background": "light"
          }
        }
      ]
    },
    {
      "cell_type": "markdown",
      "metadata": {
        "id": "jmD1QzTEjZ1J",
        "colab_type": "text"
      },
      "source": [
        "Measure the normalized RSS given by `RSS / (n s^2_y)."
      ]
    },
    {
      "cell_type": "code",
      "metadata": {
        "id": "uLQPYLptjZ1J",
        "colab_type": "code",
        "colab": {
          "base_uri": "https://localhost:8080/",
          "height": 51
        },
        "outputId": "54f7fd6c-c727-4639-fc45-da3ff9ad5992"
      },
      "source": [
        "# TODO\n",
        "RSS_train = np.mean((ytrain_pred-ytrain)**2)/(np.std(ytrain)**2)\n",
        "Rsq_train = 1-RSS_train\n",
        "print(\"Normalized RSS = {0:f}\".format(RSS_train))\n",
        "print(\"R^2 =            {0:f}\".format(Rsq_train))"
      ],
      "execution_count": 57,
      "outputs": [
        {
          "output_type": "stream",
          "text": [
            "Normalized RSS = 0.095833\n",
            "R^2 =            0.904167\n"
          ],
          "name": "stdout"
        }
      ]
    },
    {
      "cell_type": "markdown",
      "metadata": {
        "id": "1KCVoD5cjZ1M",
        "colab_type": "text"
      },
      "source": [
        "## Measure the Fit on an Indepdent Dataset\n",
        "\n",
        "Up to now, we have only tested the model on the same data on which it was trained.  In general, we need to test model on independent data not used in the training.  For this purpose, load the data in `exp2.csv`.  Compute the regression predicted values on this data and plot the predicted and actual values over time."
      ]
    },
    {
      "cell_type": "code",
      "metadata": {
        "id": "9DeoaZNUjZ1M",
        "colab_type": "code",
        "colab": {
          "base_uri": "https://localhost:8080/",
          "height": 235
        },
        "outputId": "55590729-486b-4142-8a82-1a307be0679d"
      },
      "source": [
        "# TODO\n",
        "df_ts = pd.read_csv('https://raw.githubusercontent.com/sdrangan/introml/master/unit03_mult_lin_reg/exp2.csv',names=names)\n",
        "df_ts.head(6)"
      ],
      "execution_count": 41,
      "outputs": [
        {
          "output_type": "execute_result",
          "data": {
            "text/html": [
              "<div>\n",
              "<style scoped>\n",
              "    .dataframe tbody tr th:only-of-type {\n",
              "        vertical-align: middle;\n",
              "    }\n",
              "\n",
              "    .dataframe tbody tr th {\n",
              "        vertical-align: top;\n",
              "    }\n",
              "\n",
              "    .dataframe thead th {\n",
              "        text-align: right;\n",
              "    }\n",
              "</style>\n",
              "<table border=\"1\" class=\"dataframe\">\n",
              "  <thead>\n",
              "    <tr style=\"text-align: right;\">\n",
              "      <th></th>\n",
              "      <th>t</th>\n",
              "      <th>q1</th>\n",
              "      <th>q2</th>\n",
              "      <th>q3</th>\n",
              "      <th>dq1</th>\n",
              "      <th>dq2</th>\n",
              "      <th>dq3</th>\n",
              "      <th>I1</th>\n",
              "      <th>I2</th>\n",
              "      <th>I3</th>\n",
              "      <th>eps21</th>\n",
              "      <th>eps22</th>\n",
              "      <th>eps31</th>\n",
              "      <th>eps32</th>\n",
              "      <th>ddq1</th>\n",
              "      <th>ddq2</th>\n",
              "      <th>ddq3</th>\n",
              "    </tr>\n",
              "  </thead>\n",
              "  <tbody>\n",
              "    <tr>\n",
              "      <th>0</th>\n",
              "      <td>0.00</td>\n",
              "      <td>-0.000007</td>\n",
              "      <td>1.9024</td>\n",
              "      <td>0.26063</td>\n",
              "      <td>-0.000364</td>\n",
              "      <td>4.940656e-321</td>\n",
              "      <td>0.012596</td>\n",
              "      <td>-0.096928</td>\n",
              "      <td>-0.15134</td>\n",
              "      <td>-0.017005</td>\n",
              "      <td>-130.83</td>\n",
              "      <td>-41.856</td>\n",
              "      <td>-6.3635</td>\n",
              "      <td>5.13410</td>\n",
              "      <td>-0.045712</td>\n",
              "      <td>6.210306e-319</td>\n",
              "      <td>1.582900</td>\n",
              "    </tr>\n",
              "    <tr>\n",
              "      <th>1</th>\n",
              "      <td>0.01</td>\n",
              "      <td>0.000013</td>\n",
              "      <td>1.9024</td>\n",
              "      <td>0.26073</td>\n",
              "      <td>0.000739</td>\n",
              "      <td>4.940656e-321</td>\n",
              "      <td>0.012095</td>\n",
              "      <td>-0.028908</td>\n",
              "      <td>-0.11903</td>\n",
              "      <td>-0.020406</td>\n",
              "      <td>-138.18</td>\n",
              "      <td>-51.100</td>\n",
              "      <td>-14.6590</td>\n",
              "      <td>-5.05820</td>\n",
              "      <td>0.125580</td>\n",
              "      <td>1.766878e-319</td>\n",
              "      <td>0.414660</td>\n",
              "    </tr>\n",
              "    <tr>\n",
              "      <th>2</th>\n",
              "      <td>0.02</td>\n",
              "      <td>-0.000007</td>\n",
              "      <td>1.9024</td>\n",
              "      <td>0.26086</td>\n",
              "      <td>-0.000580</td>\n",
              "      <td>4.940656e-321</td>\n",
              "      <td>0.011596</td>\n",
              "      <td>-0.059517</td>\n",
              "      <td>-0.13944</td>\n",
              "      <td>-0.047614</td>\n",
              "      <td>-139.36</td>\n",
              "      <td>-51.812</td>\n",
              "      <td>-14.6590</td>\n",
              "      <td>-5.29520</td>\n",
              "      <td>-0.130080</td>\n",
              "      <td>4.990557e-320</td>\n",
              "      <td>0.082286</td>\n",
              "    </tr>\n",
              "    <tr>\n",
              "      <th>3</th>\n",
              "      <td>0.03</td>\n",
              "      <td>0.000013</td>\n",
              "      <td>1.9024</td>\n",
              "      <td>0.26099</td>\n",
              "      <td>0.001409</td>\n",
              "      <td>4.940656e-321</td>\n",
              "      <td>0.013933</td>\n",
              "      <td>-0.079923</td>\n",
              "      <td>-0.15304</td>\n",
              "      <td>-0.023807</td>\n",
              "      <td>-135.57</td>\n",
              "      <td>-48.019</td>\n",
              "      <td>-11.3410</td>\n",
              "      <td>-0.79168</td>\n",
              "      <td>0.213010</td>\n",
              "      <td>1.394253e-320</td>\n",
              "      <td>0.190650</td>\n",
              "    </tr>\n",
              "    <tr>\n",
              "      <th>4</th>\n",
              "      <td>0.04</td>\n",
              "      <td>-0.000007</td>\n",
              "      <td>1.9024</td>\n",
              "      <td>0.26110</td>\n",
              "      <td>-0.001273</td>\n",
              "      <td>4.940656e-321</td>\n",
              "      <td>0.010793</td>\n",
              "      <td>-0.025507</td>\n",
              "      <td>-0.12924</td>\n",
              "      <td>-0.006802</td>\n",
              "      <td>-135.81</td>\n",
              "      <td>-49.204</td>\n",
              "      <td>-12.0520</td>\n",
              "      <td>-2.21390</td>\n",
              "      <td>-0.276490</td>\n",
              "      <td>3.581976e-321</td>\n",
              "      <td>-0.170400</td>\n",
              "    </tr>\n",
              "    <tr>\n",
              "      <th>5</th>\n",
              "      <td>0.05</td>\n",
              "      <td>-0.000007</td>\n",
              "      <td>1.9024</td>\n",
              "      <td>0.26124</td>\n",
              "      <td>0.001928</td>\n",
              "      <td>4.940656e-321</td>\n",
              "      <td>0.011915</td>\n",
              "      <td>-0.083324</td>\n",
              "      <td>-0.14964</td>\n",
              "      <td>-0.034010</td>\n",
              "      <td>-139.60</td>\n",
              "      <td>-53.471</td>\n",
              "      <td>-16.0820</td>\n",
              "      <td>-6.95450</td>\n",
              "      <td>0.323560</td>\n",
              "      <td>1.141292e-321</td>\n",
              "      <td>0.031745</td>\n",
              "    </tr>\n",
              "  </tbody>\n",
              "</table>\n",
              "</div>"
            ],
            "text/plain": [
              "      t        q1      q2       q3  ...    eps32      ddq1           ddq2      ddq3\n",
              "0  0.00 -0.000007  1.9024  0.26063  ...  5.13410 -0.045712  6.210306e-319  1.582900\n",
              "1  0.01  0.000013  1.9024  0.26073  ... -5.05820  0.125580  1.766878e-319  0.414660\n",
              "2  0.02 -0.000007  1.9024  0.26086  ... -5.29520 -0.130080  4.990557e-320  0.082286\n",
              "3  0.03  0.000013  1.9024  0.26099  ... -0.79168  0.213010  1.394253e-320  0.190650\n",
              "4  0.04 -0.000007  1.9024  0.26110  ... -2.21390 -0.276490  3.581976e-321 -0.170400\n",
              "5  0.05 -0.000007  1.9024  0.26124  ... -6.95450  0.323560  1.141292e-321  0.031745\n",
              "\n",
              "[6 rows x 17 columns]"
            ]
          },
          "metadata": {
            "tags": []
          },
          "execution_count": 41
        }
      ]
    },
    {
      "cell_type": "code",
      "metadata": {
        "id": "cAuf70ykKu6c",
        "colab_type": "code",
        "colab": {
          "base_uri": "https://localhost:8080/",
          "height": 34
        },
        "outputId": "444b34a1-6d96-4a3c-fb55-ca3076b25742"
      },
      "source": [
        "df_ts.shape"
      ],
      "execution_count": 42,
      "outputs": [
        {
          "output_type": "execute_result",
          "data": {
            "text/plain": [
              "(8000, 17)"
            ]
          },
          "metadata": {
            "tags": []
          },
          "execution_count": 42
        }
      ]
    },
    {
      "cell_type": "markdown",
      "metadata": {
        "id": "3GptOT8bLOwH",
        "colab_type": "text"
      },
      "source": [
        "Same as what we did to training data, here create test data from \"ep2.csv\":\n",
        "* `ytest`:  A vector of all the samples from the `I2` column\n",
        "* `Xtest`:  A matrix of the data with the columns:  `['q2','dq2','eps21', \n",
        "'eps22', 'eps31', 'eps32','ddq2']`"
      ]
    },
    {
      "cell_type": "code",
      "metadata": {
        "id": "-O_phHk4LLXE",
        "colab_type": "code",
        "colab": {}
      },
      "source": [
        "ytest = np.array(df_ts[\"I2\"])\n",
        "#ytest.shape/(8000,)\n",
        "Xtest = np.array(df_ts[['q2','dq2','eps21', 'eps22', 'eps31', 'eps32','ddq2']])\n",
        "#Xtest.shape/(8000, 7)"
      ],
      "execution_count": 50,
      "outputs": []
    },
    {
      "cell_type": "markdown",
      "metadata": {
        "id": "mrduddL1M7td",
        "colab_type": "text"
      },
      "source": [
        "Validate on Test Data"
      ]
    },
    {
      "cell_type": "code",
      "metadata": {
        "id": "u8t4zjZ7N9q1",
        "colab_type": "code",
        "colab": {
          "base_uri": "https://localhost:8080/",
          "height": 295
        },
        "outputId": "e22843e5-6d35-44c8-eba9-944b45444d74"
      },
      "source": [
        "ytest_pred = regr.predict(Xtest)\n",
        "plt.plot(t,ytest_pred)\n",
        "plt.plot(t,ytest)\n",
        "plt.xlabel(\"t\")\n",
        "plt.legend([\"ytest_pred\",\"ytest\"],loc='upper left')\n",
        "plt.title(\"ytest_pred & ytest vs. t\")\n",
        "plt.grid()"
      ],
      "execution_count": 53,
      "outputs": [
        {
          "output_type": "display_data",
          "data": {
            "image/png": "[encoded data removed]",
            "text/plain": [
              "<Figure size 432x288 with 1 Axes>"
            ]
          },
          "metadata": {
            "tags": [],
            "needs_background": "light"
          }
        }
      ]
    },
    {
      "cell_type": "markdown",
      "metadata": {
        "id": "ZVtvr2WVjZ1Q",
        "colab_type": "text"
      },
      "source": [
        "Measure the normalized RSS on the test data."
      ]
    },
    {
      "cell_type": "code",
      "metadata": {
        "id": "8QNxukipjZ1R",
        "colab_type": "code",
        "colab": {
          "base_uri": "https://localhost:8080/",
          "height": 51
        },
        "outputId": "a72f956a-6b6b-461c-b9c7-6b0b0906bdcc"
      },
      "source": [
        "# TODO\n",
        "RSS_test = np.mean((ytest_pred-ytest)**2)/(np.std(ytest)**2)\n",
        "Rsq_test = 1-RSS_test\n",
        "print(\"Normalized RSS = {0:f}\".format(RSS_test))\n",
        "print(\"R^2 =            {0:f}\".format(Rsq_test))"
      ],
      "execution_count": 58,
      "outputs": [
        {
          "output_type": "stream",
          "text": [
            "Normalized RSS = 0.126780\n",
            "R^2 =            0.873220\n"
          ],
          "name": "stdout"
        }
      ]
    },
    {
      "cell_type": "markdown",
      "metadata": {
        "id": "Sdv4HjGmQOgg",
        "colab_type": "text"
      },
      "source": [
        "Then we can see that the model predicts new samples from test data a bit poorer then it did the training samples.(See that Normalized RSS increases from **0.096** to **0.127**, or say goodness of fit drops from **0.904** to **0.873**)\n"
      ]
    },
    {
      "cell_type": "code",
      "metadata": {
        "id": "922kIay4jZ1T",
        "colab_type": "code",
        "colab": {}
      },
      "source": [
        ""
      ],
      "execution_count": null,
      "outputs": []
    }
  ]
}